{
 "cells": [
  {
   "cell_type": "code",
   "execution_count": 5,
   "metadata": {},
   "outputs": [
    {
     "data": {
      "text/plain": [
       "[['value1', 'flag1'],\n",
       " ['value2', 'flag2'],\n",
       " ['value3', 'flag3'],\n",
       " ['value4', 'flag4'],\n",
       " ['value5', 'flag5'],\n",
       " ['value6', 'flag6'],\n",
       " ['value7', 'flag7'],\n",
       " ['value8', 'flag8'],\n",
       " ['value9', 'flag9'],\n",
       " ['value10', 'flag10']]"
      ]
     },
     "execution_count": 5,
     "metadata": {},
     "output_type": "execute_result"
    }
   ],
   "source": [
    "testcol = [[\n",
    "            \"value\" + str(i+1),\n",
    "            \"flag\" + str(i +1)]\n",
    "            for i in range(10)]\n",
    "\n",
    "testcol\n",
    "            "
   ]
  },
  {
   "cell_type": "code",
   "execution_count": 13,
   "metadata": {},
   "outputs": [
    {
     "name": "stdout",
     "output_type": "stream",
     "text": [
      "a is a list\n"
     ]
    }
   ],
   "source": [
    "if type(testcol) == list:\n",
    "    print(\"a is a list\")\n",
    "else:\n",
    "    print(\"a is a tuple\")"
   ]
  },
  {
   "cell_type": "code",
   "execution_count": 10,
   "metadata": {},
   "outputs": [],
   "source": [
    "testcol2 = sum(testcol, [])"
   ]
  },
  {
   "cell_type": "code",
   "execution_count": 11,
   "metadata": {},
   "outputs": [
    {
     "data": {
      "text/plain": [
       "['value1',\n",
       " 'flag1',\n",
       " 'value2',\n",
       " 'flag2',\n",
       " 'value3',\n",
       " 'flag3',\n",
       " 'value4',\n",
       " 'flag4',\n",
       " 'value5',\n",
       " 'flag5',\n",
       " 'value6',\n",
       " 'flag6',\n",
       " 'value7',\n",
       " 'flag7',\n",
       " 'value8',\n",
       " 'flag8',\n",
       " 'value9',\n",
       " 'flag9',\n",
       " 'value10',\n",
       " 'flag10']"
      ]
     },
     "execution_count": 11,
     "metadata": {},
     "output_type": "execute_result"
    }
   ],
   "source": [
    "testcol2"
   ]
  },
  {
   "cell_type": "code",
   "execution_count": 14,
   "metadata": {},
   "outputs": [],
   "source": [
    "import itertools"
   ]
  },
  {
   "cell_type": "code",
   "execution_count": 15,
   "metadata": {},
   "outputs": [],
   "source": [
    "# merged = list(itertools.chain.from_iterable(list2d))\n",
    "\n",
    "flat = list(itertools.chain.from_iterable(testcol))"
   ]
  },
  {
   "cell_type": "code",
   "execution_count": 16,
   "metadata": {},
   "outputs": [
    {
     "data": {
      "text/plain": [
       "['value1',\n",
       " 'flag1',\n",
       " 'value2',\n",
       " 'flag2',\n",
       " 'value3',\n",
       " 'flag3',\n",
       " 'value4',\n",
       " 'flag4',\n",
       " 'value5',\n",
       " 'flag5',\n",
       " 'value6',\n",
       " 'flag6',\n",
       " 'value7',\n",
       " 'flag7',\n",
       " 'value8',\n",
       " 'flag8',\n",
       " 'value9',\n",
       " 'flag9',\n",
       " 'value10',\n",
       " 'flag10']"
      ]
     },
     "execution_count": 16,
     "metadata": {},
     "output_type": "execute_result"
    }
   ],
   "source": [
    "flat"
   ]
  },
  {
   "cell_type": "code",
   "execution_count": 17,
   "metadata": {},
   "outputs": [],
   "source": [
    "data_header_dtypes = {\n",
    "    \"ID\": str,\n",
    "    \"YEAR\": int,\n",
    "    \"MONTH\": int,\n",
    "    \"ELEMENT\": str}"
   ]
  },
  {
   "cell_type": "code",
   "execution_count": 18,
   "metadata": {},
   "outputs": [
    {
     "data": {
      "text/plain": [
       "{'ID': str, 'YEAR': int, 'MONTH': int, 'ELEMENT': str}"
      ]
     },
     "execution_count": 18,
     "metadata": {},
     "output_type": "execute_result"
    }
   ],
   "source": [
    "data_header_dtypes"
   ]
  },
  {
   "cell_type": "code",
   "execution_count": 19,
   "metadata": {},
   "outputs": [
    {
     "data": {
      "text/plain": [
       "[{'VALUE1': int, 'MFLAG1': str, 'QFLAG1': str, 'SFLAG1': str},\n",
       " {'VALUE2': int, 'MFLAG2': str, 'QFLAG2': str, 'SFLAG2': str},\n",
       " {'VALUE3': int, 'MFLAG3': str, 'QFLAG3': str, 'SFLAG3': str},\n",
       " {'VALUE4': int, 'MFLAG4': str, 'QFLAG4': str, 'SFLAG4': str},\n",
       " {'VALUE5': int, 'MFLAG5': str, 'QFLAG5': str, 'SFLAG5': str},\n",
       " {'VALUE6': int, 'MFLAG6': str, 'QFLAG6': str, 'SFLAG6': str},\n",
       " {'VALUE7': int, 'MFLAG7': str, 'QFLAG7': str, 'SFLAG7': str},\n",
       " {'VALUE8': int, 'MFLAG8': str, 'QFLAG8': str, 'SFLAG8': str},\n",
       " {'VALUE9': int, 'MFLAG9': str, 'QFLAG9': str, 'SFLAG9': str},\n",
       " {'VALUE10': int, 'MFLAG10': str, 'QFLAG10': str, 'SFLAG10': str},\n",
       " {'VALUE11': int, 'MFLAG11': str, 'QFLAG11': str, 'SFLAG11': str},\n",
       " {'VALUE12': int, 'MFLAG12': str, 'QFLAG12': str, 'SFLAG12': str},\n",
       " {'VALUE13': int, 'MFLAG13': str, 'QFLAG13': str, 'SFLAG13': str},\n",
       " {'VALUE14': int, 'MFLAG14': str, 'QFLAG14': str, 'SFLAG14': str},\n",
       " {'VALUE15': int, 'MFLAG15': str, 'QFLAG15': str, 'SFLAG15': str},\n",
       " {'VALUE16': int, 'MFLAG16': str, 'QFLAG16': str, 'SFLAG16': str},\n",
       " {'VALUE17': int, 'MFLAG17': str, 'QFLAG17': str, 'SFLAG17': str},\n",
       " {'VALUE18': int, 'MFLAG18': str, 'QFLAG18': str, 'SFLAG18': str},\n",
       " {'VALUE19': int, 'MFLAG19': str, 'QFLAG19': str, 'SFLAG19': str},\n",
       " {'VALUE20': int, 'MFLAG20': str, 'QFLAG20': str, 'SFLAG20': str},\n",
       " {'VALUE21': int, 'MFLAG21': str, 'QFLAG21': str, 'SFLAG21': str},\n",
       " {'VALUE22': int, 'MFLAG22': str, 'QFLAG22': str, 'SFLAG22': str},\n",
       " {'VALUE23': int, 'MFLAG23': str, 'QFLAG23': str, 'SFLAG23': str},\n",
       " {'VALUE24': int, 'MFLAG24': str, 'QFLAG24': str, 'SFLAG24': str},\n",
       " {'VALUE25': int, 'MFLAG25': str, 'QFLAG25': str, 'SFLAG25': str},\n",
       " {'VALUE26': int, 'MFLAG26': str, 'QFLAG26': str, 'SFLAG26': str},\n",
       " {'VALUE27': int, 'MFLAG27': str, 'QFLAG27': str, 'SFLAG27': str},\n",
       " {'VALUE28': int, 'MFLAG28': str, 'QFLAG28': str, 'SFLAG28': str},\n",
       " {'VALUE29': int, 'MFLAG29': str, 'QFLAG29': str, 'SFLAG29': str},\n",
       " {'VALUE30': int, 'MFLAG30': str, 'QFLAG30': str, 'SFLAG30': str},\n",
       " {'VALUE31': int, 'MFLAG31': str, 'QFLAG31': str, 'SFLAG31': str}]"
      ]
     },
     "execution_count": 19,
     "metadata": {},
     "output_type": "execute_result"
    }
   ],
   "source": [
    "data_col_dtypes = [{\n",
    "    \"VALUE\" + str(i + 1): int,\n",
    "    \"MFLAG\" + str(i + 1): str,\n",
    "    \"QFLAG\" + str(i + 1): str,\n",
    "    \"SFLAG\" + str(i + 1): str}\n",
    "    for i in range(31)]\n",
    "\n",
    "data_col_dtypes"
   ]
  },
  {
   "cell_type": "code",
   "execution_count": 29,
   "metadata": {},
   "outputs": [],
   "source": [
    "flat_data_col_dtypes = list(itertools.chain.from_iterable(data_col_dtypes))"
   ]
  },
  {
   "cell_type": "code",
   "execution_count": 30,
   "metadata": {},
   "outputs": [
    {
     "data": {
      "text/plain": [
       "['VALUE1',\n",
       " 'MFLAG1',\n",
       " 'QFLAG1',\n",
       " 'SFLAG1',\n",
       " 'VALUE2',\n",
       " 'MFLAG2',\n",
       " 'QFLAG2',\n",
       " 'SFLAG2',\n",
       " 'VALUE3',\n",
       " 'MFLAG3',\n",
       " 'QFLAG3',\n",
       " 'SFLAG3',\n",
       " 'VALUE4',\n",
       " 'MFLAG4',\n",
       " 'QFLAG4',\n",
       " 'SFLAG4',\n",
       " 'VALUE5',\n",
       " 'MFLAG5',\n",
       " 'QFLAG5',\n",
       " 'SFLAG5',\n",
       " 'VALUE6',\n",
       " 'MFLAG6',\n",
       " 'QFLAG6',\n",
       " 'SFLAG6',\n",
       " 'VALUE7',\n",
       " 'MFLAG7',\n",
       " 'QFLAG7',\n",
       " 'SFLAG7',\n",
       " 'VALUE8',\n",
       " 'MFLAG8',\n",
       " 'QFLAG8',\n",
       " 'SFLAG8',\n",
       " 'VALUE9',\n",
       " 'MFLAG9',\n",
       " 'QFLAG9',\n",
       " 'SFLAG9',\n",
       " 'VALUE10',\n",
       " 'MFLAG10',\n",
       " 'QFLAG10',\n",
       " 'SFLAG10',\n",
       " 'VALUE11',\n",
       " 'MFLAG11',\n",
       " 'QFLAG11',\n",
       " 'SFLAG11',\n",
       " 'VALUE12',\n",
       " 'MFLAG12',\n",
       " 'QFLAG12',\n",
       " 'SFLAG12',\n",
       " 'VALUE13',\n",
       " 'MFLAG13',\n",
       " 'QFLAG13',\n",
       " 'SFLAG13',\n",
       " 'VALUE14',\n",
       " 'MFLAG14',\n",
       " 'QFLAG14',\n",
       " 'SFLAG14',\n",
       " 'VALUE15',\n",
       " 'MFLAG15',\n",
       " 'QFLAG15',\n",
       " 'SFLAG15',\n",
       " 'VALUE16',\n",
       " 'MFLAG16',\n",
       " 'QFLAG16',\n",
       " 'SFLAG16',\n",
       " 'VALUE17',\n",
       " 'MFLAG17',\n",
       " 'QFLAG17',\n",
       " 'SFLAG17',\n",
       " 'VALUE18',\n",
       " 'MFLAG18',\n",
       " 'QFLAG18',\n",
       " 'SFLAG18',\n",
       " 'VALUE19',\n",
       " 'MFLAG19',\n",
       " 'QFLAG19',\n",
       " 'SFLAG19',\n",
       " 'VALUE20',\n",
       " 'MFLAG20',\n",
       " 'QFLAG20',\n",
       " 'SFLAG20',\n",
       " 'VALUE21',\n",
       " 'MFLAG21',\n",
       " 'QFLAG21',\n",
       " 'SFLAG21',\n",
       " 'VALUE22',\n",
       " 'MFLAG22',\n",
       " 'QFLAG22',\n",
       " 'SFLAG22',\n",
       " 'VALUE23',\n",
       " 'MFLAG23',\n",
       " 'QFLAG23',\n",
       " 'SFLAG23',\n",
       " 'VALUE24',\n",
       " 'MFLAG24',\n",
       " 'QFLAG24',\n",
       " 'SFLAG24',\n",
       " 'VALUE25',\n",
       " 'MFLAG25',\n",
       " 'QFLAG25',\n",
       " 'SFLAG25',\n",
       " 'VALUE26',\n",
       " 'MFLAG26',\n",
       " 'QFLAG26',\n",
       " 'SFLAG26',\n",
       " 'VALUE27',\n",
       " 'MFLAG27',\n",
       " 'QFLAG27',\n",
       " 'SFLAG27',\n",
       " 'VALUE28',\n",
       " 'MFLAG28',\n",
       " 'QFLAG28',\n",
       " 'SFLAG28',\n",
       " 'VALUE29',\n",
       " 'MFLAG29',\n",
       " 'QFLAG29',\n",
       " 'SFLAG29',\n",
       " 'VALUE30',\n",
       " 'MFLAG30',\n",
       " 'QFLAG30',\n",
       " 'SFLAG30',\n",
       " 'VALUE31',\n",
       " 'MFLAG31',\n",
       " 'QFLAG31',\n",
       " 'SFLAG31']"
      ]
     },
     "execution_count": 30,
     "metadata": {},
     "output_type": "execute_result"
    }
   ],
   "source": [
    "flat_data_col_dtypes"
   ]
  },
  {
   "cell_type": "code",
   "execution_count": null,
   "metadata": {},
   "outputs": [],
   "source": []
  }
 ],
 "metadata": {
  "kernelspec": {
   "display_name": "Python 3",
   "language": "python",
   "name": "python3"
  },
  "language_info": {
   "codemirror_mode": {
    "name": "ipython",
    "version": 3
   },
   "file_extension": ".py",
   "mimetype": "text/x-python",
   "name": "python",
   "nbconvert_exporter": "python",
   "pygments_lexer": "ipython3",
   "version": "3.7.6"
  }
 },
 "nbformat": 4,
 "nbformat_minor": 4
}
